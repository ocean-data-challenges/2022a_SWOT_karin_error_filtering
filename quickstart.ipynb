{
 "cells": [
  {
   "cell_type": "markdown",
   "id": "191fe9a3",
   "metadata": {},
   "source": [
    "![header](./figures/logos_partenaires._cmems_se.jpg)"
   ]
  },
  {
   "cell_type": "markdown",
   "id": "c60e48f9",
   "metadata": {},
   "source": [
    "# Quickstart SWOT Swath Filtering\n",
    "\n",
    "<div style=\"text-align: right\"><i> 2022-09-19 QUICKSTART </i></div>\n",
    "\n",
    "***\n",
    "**Authors:**  CLS & Datlas <br>\n",
    "**Copyright:** 2022 CLS & Datlas <br>\n",
    "**License:** MIT\n",
    "\n",
    "<div class=\"alert alert-block alert-success\">\n",
    "    <h1><center>Quickstart</center></h1>\n",
    "    <h5>Context: The row SWOT data will be contaminated by instrumental errors (Gauthier et al., 2016 ; Peral and Esteban-Fernandez, 2018). \n",
    "    In order to be able to observe front, mesoscale and sub-mesoscale features the SWOT data will require specific processing. \n",
    "    Also, these errors are expected to strongly pollute the derivatives of the SSH data which are used for the computation of geostrophic currents. Hence, being able to remove the SWOT errors are of significant importance to recover information on 2D surface currents and vertical mixing.</h5> \n",
    "</div> \n"
   ]
  },
  {
   "cell_type": "markdown",
   "id": "e4aba88b",
   "metadata": {},
   "source": [
    "***\n",
    "**General Note 1**: Execute each cell through the <button class=\"btn btn-default btn-xs\"><i class=\"icon-play fa fa-play\"></i></button> button from the top MENU (or keyboard shortcut `Shift` + `Enter`).<br>\n",
    "<br>\n",
    "**General Note 2**: If, for any reason, the kernel is not working anymore, in the top MENU, click on the <button class=\"btn btn-default btn-xs\"><i class=\"fa fa-repeat icon-repeat\"></i></button> button. Then, in the top MENU, click on \"Cell\" and select \"Run All Above Selected Cell\".<br>\n",
    "***\n",
    "\n",
    "\n",
    "<div class=\"alert alert-danger\" role=\"alert\">\n",
    "    \n",
    "<h3>Learning outcomes</h3>\n",
    "\n",
    "At the end of this notebook you will know:\n",
    "<ul>\n",
    "  <li>How you can display unfiltered, filtered SWOT Level3 SSH products.</li>\n",
    "  <li>How you can evaluate the median filter: compare filtered with vs simulated target field</li>\n",
    "</ul>\n",
    "    \n",
    "</div>\n",
    "\n"
   ]
  },
  {
   "cell_type": "code",
   "execution_count": null,
   "id": "b61c77b5",
   "metadata": {},
   "outputs": [],
   "source": [
    "import os\n",
    "import glob\n",
    "import sys\n",
    "from src.benchmark import *\n",
    "from src.plot import *\n",
    "from src.swot import *\n",
    "import matplotlib.pylab as plt"
   ]
  },
  {
   "cell_type": "markdown",
   "id": "40c04bb2",
   "metadata": {},
   "source": [
    "<div class=\"alert alert-info\" role=\"alert\">\n",
    "\n",
    "<h2>0. Download input files </h2>\n",
    "\n",
    "</div>"
   ]
  },
  {
   "cell_type": "code",
   "execution_count": null,
   "id": "025d4f8d",
   "metadata": {},
   "outputs": [],
   "source": [
    "# Check if inputs have already been downloaded otherwise do\n",
    "if not os.path.isdir('dc_inputs'):\n",
    "    # Get pseuso-observation\n",
    "    !wget https://ige-meom-opendap.univ-grenoble-alpes.fr/thredds/fileServer/meomopendap/extract/ocean-data-challenges/2022a_SWOT_karin_error_filtering/dc_inputs.tar.gz\n",
    "    !tar -xvf dc_inputs.tar.gz --directory .\n",
    "    !rm -f dc_inputs.tar.gz"
   ]
  },
  {
   "cell_type": "markdown",
   "id": "e8655d47",
   "metadata": {},
   "source": [
    "<div class=\"alert alert-info\" role=\"alert\">\n",
    "\n",
    "<h2>1. Read input files\n",
    "<h4> - \"ssh_karin\" the input variable\n",
    "<h4> - \"ssh_true\" the target variable\n",
    "<h4> Only the third SWOT pass is filtered as an illustration</div>\n"
   ]
  },
  {
   "cell_type": "code",
   "execution_count": null,
   "id": "83809f93",
   "metadata": {},
   "outputs": [],
   "source": [
    "list_of_inputs = sorted(glob.glob('dc_inputs/input_ssh_karin_013_00*.nc'))\n",
    "\n",
    "# Only the third SWOT pass for quickstart example\n",
    "swt_input = SwotTrack(list_of_inputs[3])\n",
    "swt_input._dset"
   ]
  },
  {
   "cell_type": "markdown",
   "id": "67c423e8",
   "metadata": {},
   "source": [
    "<div class=\"alert alert-info\" role=\"alert\">\n",
    "\n",
    "<h2>2. Compute geostrophic velocities from simulated true SSH karin and from simulated noisy SSH karin </h2>\n",
    "\n",
    "</div>"
   ]
  },
  {
   "cell_type": "markdown",
   "id": "2c47b47e-4f66-4296-a4fb-81f1e6313fbb",
   "metadata": {},
   "source": [
    "The geostrophic currents calculation is:\n",
    "$$\n",
    "u_g(x,y) = - \\frac{g}{f(x,y)}\\frac{\\partial h(x,y)}{\\partial y}\n",
    "$$\n",
    "$$\n",
    "v_g(x,y) = \\frac{g}{f(x,y)}\\frac{\\partial h(x,y)}{\\partial x}\n",
    "$$\n",
    "$$\n",
    "\\vec{U_g} = u_g.\\vec{x} + v_g.\\vec{y} \n",
    "$$\n",
    "\n",
    "with:\n",
    "\n",
    "$ f(x,y) = 2 \\Omega sin(latitude(x,y))$ ,the Coriolis frequency\n",
    "\n",
    "$\\vec{x}$ and $\\vec{y}$ define the local frame of reference in the swath\n",
    "\n",
    "*Note: For simplification, we considered here:* \n",
    "- a 3-points stencil width, the first derivatives discretisation schemes, such as:\n",
    "\n",
    "$$\n",
    "\\frac{\\partial h(x,y)}{\\partial y} = \\frac{ h(i, j+1) - h(i, j-1) } {2 dy}, \n",
    "$$\n",
    "\n",
    "- the beta plane approximation for the derivation of the geostrophic current near the Equator is not implemented "
   ]
  },
  {
   "cell_type": "code",
   "execution_count": null,
   "id": "29ede9ff",
   "metadata": {},
   "outputs": [],
   "source": [
    "swt_input.compute_geos_current('ssh_karin', 'geos_current_karin')\n",
    "swt_input.compute_geos_current('ssh_true', 'geos_current_true')"
   ]
  },
  {
   "cell_type": "markdown",
   "id": "8ca5b274-5b67-4c9a-9bd9-056980ac878a",
   "metadata": {},
   "source": [
    "<div class=\"alert alert-info\" role=\"alert\">\n",
    "\n",
    "<h2>3. Compute relative vorticity from simulated true geostrophic velocities and from simulated noisy geostrophic velocities </h2>\n",
    "\n",
    "</div>"
   ]
  },
  {
   "cell_type": "markdown",
   "id": "7639a78f-1562-4c1b-be9d-e3032c9862ad",
   "metadata": {},
   "source": [
    "The relative vorticity (normalized by $f$) is derived from the geostrophic current field:\n",
    "\n",
    "$$\n",
    "\\zeta_f = \\frac{1}{f} (\\frac{\\partial v_g}{\\partial x} - \\frac{\\partial u_g}{\\partial y})\n",
    "$$\n",
    "\n",
    "a 3-points stencil width is also considered for these derivative"
   ]
  },
  {
   "cell_type": "code",
   "execution_count": null,
   "id": "08dfc84c-03f1-4a01-b30f-e4e4ff2fa947",
   "metadata": {},
   "outputs": [],
   "source": [
    "swt_input.compute_relative_vorticity('geos_current_true_x', 'geos_current_true_y', 'ksi_true')\n",
    "swt_input.compute_relative_vorticity('geos_current_karin_x', 'geos_current_karin_y', 'ksi_karin')"
   ]
  },
  {
   "cell_type": "markdown",
   "id": "f3327b39",
   "metadata": {},
   "source": [
    "<div class=\"alert alert-info\" role=\"alert\">\n",
    "\n",
    "<h2>4. Example of INPUT field: Simulated SWOT noisy Sea surface Height data and derived geostrophic current </h2>\n",
    "<h5> The input SSH field is here polluted by random noise (Left Figure) as precribed by the SWOTsimulator. This noise pollution has a strong impact on the first derivative of the SSH field: the geostrophic currents </h5>\n",
    "    \n",
    "</div>"
   ]
  },
  {
   "cell_type": "code",
   "execution_count": null,
   "id": "beed2dc2",
   "metadata": {
    "tags": []
   },
   "outputs": [],
   "source": [
    "mask, vmin, vmax = swt_input.display_demo('karin')"
   ]
  },
  {
   "cell_type": "markdown",
   "id": "919aa6a6",
   "metadata": {},
   "source": [
    "<div class=\"alert alert-info\" role=\"alert\">\n",
    "\n",
    "<h2>5. Example of TARGET field to reconstruct: Simulated True SWOT Sea surface Height data and derived geostrophic current </h2>\n",
    "\n",
    "</div>"
   ]
  },
  {
   "cell_type": "code",
   "execution_count": null,
   "id": "ed29e8d3",
   "metadata": {
    "tags": []
   },
   "outputs": [],
   "source": [
    "tmp_msk, tmp_v0, tmp_v1 = swt_input.display_demo('true', mask, vmin, vmax)"
   ]
  },
  {
   "cell_type": "markdown",
   "id": "4627f761",
   "metadata": {},
   "source": [
    "<div class=\"alert alert-info\" role=\"alert\">\n",
    "\n",
    "<h2>6. Apply MEDIAN filter by using \"apply_your_own_filter\" function </h2>\n",
    "\n",
    "</div>"
   ]
  },
  {
   "cell_type": "code",
   "execution_count": null,
   "id": "7a549e84",
   "metadata": {},
   "outputs": [],
   "source": [
    "# Creating a function that filters an SSH field using a median filter\n",
    "\n",
    "def my_filter0(ssha,size):\n",
    "    from src.filters_bidim import median_filter \n",
    "    \n",
    "    return median_filter(ssha, size)"
   ]
  },
  {
   "cell_type": "code",
   "execution_count": null,
   "id": "4c130446",
   "metadata": {},
   "outputs": [],
   "source": [
    "# Applying your function by passing it as argument of \"apply_your_own_filter\"\n",
    "#\n",
    "# (the arguments of my_filter0 are passed at the end of apply_your_own_filter call, here, size=10 )\n",
    "\n",
    "swt_input.apply_your_own_filter(thefilter=my_filter0, invar='ssh_karin', outvar='ssh_karin_filt', size=10)\n"
   ]
  },
  {
   "cell_type": "markdown",
   "id": "9bcbe22c",
   "metadata": {},
   "source": [
    "<div class=\"alert alert-info\" role=\"alert\">\n",
    "\n",
    "<h2>7. Compute geostrophic current from this filtered SSH </h2>\n",
    "\n",
    "</div>"
   ]
  },
  {
   "cell_type": "code",
   "execution_count": null,
   "id": "6ebdac8f",
   "metadata": {},
   "outputs": [],
   "source": [
    "swt_input.compute_geos_current('ssh_karin_filt', 'geos_current_karin_filt')\n",
    "swt_input.compute_relative_vorticity('geos_current_karin_filt_x', 'geos_current_karin_filt_y', 'ksi_karin_filt')"
   ]
  },
  {
   "cell_type": "markdown",
   "id": "ad14c7b6",
   "metadata": {},
   "source": [
    "<div class=\"alert alert-info\" role=\"alert\">\n",
    "\n",
    "<h2>8. Display performance of  MEDIAN filter </h2>\n",
    "\n",
    "</div>"
   ]
  },
  {
   "cell_type": "code",
   "execution_count": null,
   "id": "768439b5",
   "metadata": {},
   "outputs": [],
   "source": [
    "tmp_msk, tmp_v0, tmp_v1 = swt_input.display_demo('karin_filt')"
   ]
  },
  {
   "cell_type": "markdown",
   "id": "23ebe15d",
   "metadata": {},
   "source": [
    "<div class=\"alert alert-info\" role=\"alert\">\n",
    "\n",
    "<h2>9. Save filtered output </h2>\n",
    "\n",
    "</div>"
   ]
  },
  {
   "cell_type": "code",
   "execution_count": null,
   "id": "389802be",
   "metadata": {},
   "outputs": [],
   "source": [
    "output_var_names = ['ssh_karin_filt', 'geos_current_karin_filt', 'ksi_karin_filt', 'longitude',' latitude']\n",
    "output_file_path = './results/quickstart_my_filter0.nc' \n",
    "\n",
    "swt_input.to_netcdf(output_var_names, output_file_path)"
   ]
  },
  {
   "cell_type": "code",
   "execution_count": null,
   "id": "a3d84585",
   "metadata": {},
   "outputs": [],
   "source": [
    "xr.open_dataset(output_file_path)"
   ]
  },
  {
   "cell_type": "code",
   "execution_count": null,
   "id": "c80ec9b7-1d2c-4b1c-a3f0-ad0a970794c1",
   "metadata": {},
   "outputs": [],
   "source": []
  }
 ],
 "metadata": {
  "kernelspec": {
   "display_name": "env-dc-swot-filtering",
   "language": "python",
   "name": "env-dc-swot-filtering"
  },
  "language_info": {
   "codemirror_mode": {
    "name": "ipython",
    "version": 3
   },
   "file_extension": ".py",
   "mimetype": "text/x-python",
   "name": "python",
   "nbconvert_exporter": "python",
   "pygments_lexer": "ipython3",
   "version": "3.10.4"
  }
 },
 "nbformat": 4,
 "nbformat_minor": 5
}
