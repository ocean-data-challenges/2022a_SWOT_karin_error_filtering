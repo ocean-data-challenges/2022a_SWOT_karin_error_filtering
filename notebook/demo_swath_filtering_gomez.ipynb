{
 "cells": [
  {
   "cell_type": "markdown",
   "id": "1f5d0d51",
   "metadata": {},
   "source": [
    "![header](../figures/logos_partenaires._cmems_se.jpg)"
   ]
  },
  {
   "cell_type": "markdown",
   "id": "49070a4f",
   "metadata": {},
   "source": [
    "# Demo SWOT Swath Filtering: Variational Filter (Gomez et al., 2018)\n",
    "\n",
    "<div style=\"text-align: right\"><i> 2022-11-07 DEMO GOMEZ FILTER </i></div>\n",
    "\n",
    "***\n",
    "**Authors:**  CLS & Datlas <br>\n",
    "**Copyright:** 2022 CLS & Datlas <br>\n",
    "**License:** MIT\n",
    "\n",
    "<div class=\"alert alert-block alert-success\">\n",
    "<h1><center>Demo Gomez et al. filter</center></h1></div>"
   ]
  },
  {
   "cell_type": "markdown",
   "id": "5a77fc4b",
   "metadata": {},
   "source": [
    "***\n",
    "**General Note 1**: Execute each cell through the <button class=\"btn btn-default btn-xs\"><i class=\"icon-play fa fa-play\"></i></button> button from the top MENU (or keyboard shortcut `Shift` + `Enter`).<br>\n",
    "<br>\n",
    "**General Note 2**: If, for any reason, the kernel is not working anymore, in the top MENU, click on the <button class=\"btn btn-default btn-xs\"><i class=\"fa fa-repeat icon-repeat\"></i></button> button. Then, in the top MENU, click on \"Cell\" and select \"Run All Above Selected Cell\".<br>\n",
    "***\n",
    "\n",
    "\n",
    "<div class=\"alert alert-danger\" role=\"alert\">\n",
    "\n",
    "<h3>Learning outcomes</h3>\n",
    "\n",
    "At the end of this notebook you will know:\n",
    "<ul>\n",
    "  <li>How you can the Gomez et al. (2018) variational filter to SWOT Level3 SSH unfiltered products </li>\n",
    "</ul>\n",
    "    \n",
    "</div>\n",
    "\n"
   ]
  },
  {
   "cell_type": "code",
   "execution_count": null,
   "id": "6884ccdd",
   "metadata": {},
   "outputs": [],
   "source": [
    "import os\n",
    "import glob\n",
    "import sys\n",
    "import numpy as np\n",
    "sys.path.append('..')\n",
    "from src.swot import *\n",
    "from src.plot import *\n",
    "import warnings\n",
    "warnings.filterwarnings(\"ignore\")"
   ]
  },
  {
   "cell_type": "markdown",
   "id": "16ee7a84",
   "metadata": {},
   "source": [
    "<div class=\"alert alert-info\" role=\"alert\">\n",
    "\n",
    "<h2>1. Input files to analyse</h2>\n",
    "\n",
    "</div>"
   ]
  },
  {
   "cell_type": "markdown",
   "id": "bc387f9a",
   "metadata": {},
   "source": [
    "## Data challenge inputs"
   ]
  },
  {
   "cell_type": "code",
   "execution_count": null,
   "id": "aaa6e355",
   "metadata": {},
   "outputs": [],
   "source": [
    "# Check if inputs have already been downloaded otherwise do\n",
    "if not os.path.isdir('../dc_inputs'):\n",
    "    # Get pseuso-observation\n",
    "    !wget https://ige-meom-opendap.univ-grenoble-alpes.fr/thredds/fileServer/meomopendap/extract/ocean-data-challenges/2022a_SWOT_karin_error_filtering/dc_inputs.tar.gz\n",
    "    !tar -xvf dc_inputs.tar.gz --directory ../\n",
    "    !rm -f dc_inputs.tar.gz"
   ]
  },
  {
   "cell_type": "code",
   "execution_count": null,
   "id": "98f87017",
   "metadata": {},
   "outputs": [],
   "source": [
    "list_of_file = sorted(glob.glob('../dc_inputs/*.nc'))\n",
    "len(list_of_file)"
   ]
  },
  {
   "cell_type": "markdown",
   "id": "72b0541c",
   "metadata": {},
   "source": [
    "## Outputs folder"
   ]
  },
  {
   "cell_type": "code",
   "execution_count": null,
   "id": "92936315",
   "metadata": {},
   "outputs": [],
   "source": [
    "output_dir = '../results/demo_gomez_filtering'\n",
    "os.system(f'mkdir -p {output_dir}')"
   ]
  },
  {
   "cell_type": "markdown",
   "id": "029baac3",
   "metadata": {},
   "source": [
    "## Filter function"
   ]
  },
  {
   "cell_type": "code",
   "execution_count": null,
   "id": "6da8c862",
   "metadata": {},
   "outputs": [],
   "source": [
    "def run_filter(filename):\n",
    "    swt = SwotTrack(filename) \n",
    "    swt.fill_nadir_gap('ssh_karin')\n",
    "    swt.apply_var_filter('ssh_karin', 'ssh_karin_filt')\n",
    "    swt.empty_nadir_gap('ssh_karin_filt')\n",
    "    swt.empty_nadir_gap('ssh_karin')\n",
    "    output_filename = f'{output_dir}/{os.path.basename(filename)}'\n",
    "    swt.to_netcdf('all', output_filename)"
   ]
  },
  {
   "cell_type": "markdown",
   "id": "79f9dc60",
   "metadata": {},
   "source": [
    "# RUN FILTER"
   ]
  },
  {
   "cell_type": "markdown",
   "id": "5bed104c",
   "metadata": {},
   "source": [
    "### PARALLEL VERSION"
   ]
  },
  {
   "cell_type": "code",
   "execution_count": null,
   "id": "e8687adb",
   "metadata": {},
   "outputs": [],
   "source": [
    "from distributed import Client\n",
    "import dask_jobqueue\n",
    "import dask.bag\n",
    "\n",
    "cluster = dask_jobqueue.SGECluster(queue='dask', cores=1, memory='2GB', resource_spec='mem_total=2G', processes=1, local_directory='$TMPDIR')\n",
    "cluster.scale(200)\n",
    "\n",
    "client = Client(cluster)\n",
    "client.upload_file('../src/swot.py')\n",
    "client"
   ]
  },
  {
   "cell_type": "code",
   "execution_count": null,
   "id": "8b04820b",
   "metadata": {},
   "outputs": [],
   "source": [
    "bag = dask.bag.from_sequence(list_of_file)"
   ]
  },
  {
   "cell_type": "code",
   "execution_count": null,
   "id": "ca31d426",
   "metadata": {},
   "outputs": [],
   "source": [
    "res = bag.map(run_filter).compute()"
   ]
  },
  {
   "cell_type": "code",
   "execution_count": null,
   "id": "2edc13e6",
   "metadata": {},
   "outputs": [],
   "source": [
    "client.close()\n",
    "cluster.close()"
   ]
  },
  {
   "cell_type": "markdown",
   "id": "e274c344",
   "metadata": {},
   "source": [
    "### SERIAL VERSION"
   ]
  },
  {
   "cell_type": "code",
   "execution_count": null,
   "id": "d94092d4",
   "metadata": {
    "scrolled": true
   },
   "outputs": [],
   "source": [
    "%%time\n",
    "for filename in list_of_file:\n",
    "    run_filter(filename)"
   ]
  },
  {
   "cell_type": "code",
   "execution_count": null,
   "id": "03cc88eb",
   "metadata": {},
   "outputs": [],
   "source": [
    "plot_demo_pass(list_of_file[3], f'{output_dir}/{os.path.basename(list_of_file[3])}')"
   ]
  },
  {
   "cell_type": "code",
   "execution_count": null,
   "id": "f514b2f3",
   "metadata": {},
   "outputs": [],
   "source": []
  }
 ],
 "metadata": {
  "kernelspec": {
   "display_name": "env-dc-swot-filtering",
   "language": "python",
   "name": "env-dc-swot-filtering"
  },
  "language_info": {
   "codemirror_mode": {
    "name": "ipython",
    "version": 3
   },
   "file_extension": ".py",
   "mimetype": "text/x-python",
   "name": "python",
   "nbconvert_exporter": "python",
   "pygments_lexer": "ipython3",
   "version": "3.10.4"
  }
 },
 "nbformat": 4,
 "nbformat_minor": 5
}
