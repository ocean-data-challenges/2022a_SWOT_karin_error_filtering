{
 "cells": [
  {
   "cell_type": "markdown",
   "id": "673cfbd5",
   "metadata": {},
   "source": [
    "![header](../figures/logos_partenaires._cmems_se.jpg)"
   ]
  },
  {
   "cell_type": "markdown",
   "id": "103b591e",
   "metadata": {},
   "source": [
    "# Benchmark SWOT Swath Filtering\n",
    "\n",
    "<div style=\"text-align: right\"><i> 2022-08-24 CNN_BENCHMARK_DEMO </i></div>\n",
    "\n",
    "***\n",
    "**Authors:**  CLS & Datlas <br>\n",
    "**Copyright:** 2022 CLS & Datlas <br>\n",
    "**License:** MIT\n",
    "\n",
    "<div class=\"alert alert-block alert-success\">\n",
    "<h1><center>Benchmark of CNN filter</center></h1></div>"
   ]
  },
  {
   "cell_type": "markdown",
   "id": "7cace21e",
   "metadata": {},
   "source": [
    "***\n",
    "**General Note 1**: Execute each cell through the <button class=\"btn btn-default btn-xs\"><i class=\"icon-play fa fa-play\"></i></button> button from the top MENU (or keyboard shortcut `Shift` + `Enter`).<br>\n",
    "<br>\n",
    "**General Note 2**: If, for any reason, the kernel is not working anymore, in the top MENU, click on the <button class=\"btn btn-default btn-xs\"><i class=\"fa fa-repeat icon-repeat\"></i></button> button. Then, in the top MENU, click on \"Cell\" and select \"Run All Above Selected Cell\".<br>\n",
    "***\n",
    "\n",
    "\n",
    "<div class=\"alert alert-danger\" role=\"alert\">\n",
    "\n",
    "<h3>Learning outcomes</h3>\n",
    "\n",
    "At the end of this notebook you will know:\n",
    "<ul>\n",
    "  <li>How you can display unfiltered, filtered SWOT Level3 SSH products.</li>\n",
    "  <li>How you can evaluate the cnn filter: statistical and spectral analysis.</li>\n",
    "</ul>\n",
    "    \n",
    "</div>\n",
    "\n"
   ]
  },
  {
   "cell_type": "markdown",
   "id": "e9fb7c4d",
   "metadata": {},
   "source": []
  },
  {
   "cell_type": "code",
   "execution_count": null,
   "id": "dcbc57d8",
   "metadata": {},
   "outputs": [],
   "source": [
    "import os\n",
    "import glob\n",
    "import sys\n",
    "sys.path.append('..')\n",
    "from src.benchmark import *\n",
    "from src.plot import *\n",
    "from src.swot import *"
   ]
  },
  {
   "cell_type": "markdown",
   "id": "7ef02e1f",
   "metadata": {},
   "source": [
    "<div class=\"alert alert-info\" role=\"alert\">\n",
    "\n",
    "<h2>1. Input files to analyse</h2>\n",
    "\n",
    "</div>"
   ]
  },
  {
   "cell_type": "markdown",
   "id": "64b24bc0",
   "metadata": {},
   "source": [
    "## Data challenge inputs"
   ]
  },
  {
   "cell_type": "code",
   "execution_count": null,
   "id": "5a9aafbe",
   "metadata": {},
   "outputs": [],
   "source": [
    "# Check if inputs have already been downloaded otherwise do\n",
    "if not os.path.isdir('../dc_inputs'):\n",
    "    # Get pseuso-observation\n",
    "    !wget https://ige-meom-opendap.univ-grenoble-alpes.fr/thredds/fileServer/meomopendap/extract/ocean-data-challenges/2022a_SWOT_karin_error_filtering/dc_inputs.tar.gz\n",
    "    !tar -xvf dc_inputs.tar.gz --directory ../\n",
    "    !rm -f dc_inputs.tar.gz"
   ]
  },
  {
   "cell_type": "code",
   "execution_count": null,
   "id": "5149d3e7",
   "metadata": {},
   "outputs": [],
   "source": [
    "list_of_file_inputs = sorted(glob.glob('../dc_inputs/input_ssh_karin_013*.nc'))"
   ]
  },
  {
   "cell_type": "markdown",
   "id": "d29b734f",
   "metadata": {},
   "source": [
    "## Filtered outputs to evaluate"
   ]
  },
  {
   "cell_type": "code",
   "execution_count": null,
   "id": "c9dc92df",
   "metadata": {},
   "outputs": [],
   "source": [
    "list_of_file = sorted(glob.glob('../inputs/eNATL60-BLB002/cnn/SWOT_L2_LR_Filtered_013*.nc'))"
   ]
  },
  {
   "cell_type": "markdown",
   "id": "7c396084",
   "metadata": {},
   "source": [
    "<div class=\"alert alert-info\" role=\"alert\">\n",
    "\n",
    "<h2>2. Illustration on one pass (same as quickstart example)</h2>\n",
    "\n",
    "</div>"
   ]
  },
  {
   "cell_type": "code",
   "execution_count": null,
   "id": "d2f283fd-f2cb-4448-a9b5-16c587441b84",
   "metadata": {},
   "outputs": [],
   "source": [
    "plot_demo_pass(list_of_file_inputs[3], list_of_file[3])"
   ]
  },
  {
   "cell_type": "markdown",
   "id": "39f8a1bd",
   "metadata": {},
   "source": [
    "<div class=\"alert alert-info\" role=\"alert\">\n",
    "\n",
    "<h2>3. Statistical & Spectral Analysis </h2>\n",
    "\n",
    "</div>"
   ]
  },
  {
   "cell_type": "markdown",
   "id": "7eca8370",
   "metadata": {},
   "source": [
    "## 3.1 Parameters"
   ]
  },
  {
   "cell_type": "code",
   "execution_count": null,
   "id": "b370eaf3",
   "metadata": {},
   "outputs": [],
   "source": [
    "etuvar = 'ssh_karin_filt'\n",
    "filter_name = 'CNN'\n",
    "output_dir = '../results'\n",
    "stat_output_filename = f'{output_dir}/stat_CNN.nc'\n",
    "stat_by_regime_output_filename = f'{output_dir}/stat_by_regime_CNN.nc'\n",
    "psd_output_filename = f'{output_dir}/psd_CNN.nc'\n",
    "cnn_bench = Benchmark()"
   ]
  },
  {
   "cell_type": "markdown",
   "id": "d0594370",
   "metadata": {},
   "source": [
    "## 3.2 Compute grid boxes statistics"
   ]
  },
  {
   "cell_type": "code",
   "execution_count": null,
   "id": "4738c979",
   "metadata": {},
   "outputs": [],
   "source": [
    "%%time\n",
    "# Compute gridded stats\n",
    "cnn_bench.compute_stats(list_of_file, etuvar, list_of_file_inputs)\n",
    "\n",
    "# Write gridded stats \n",
    "cnn_bench.write_stats(stat_output_filename, filter=filter_name)\n",
    "\n",
    "# Plot gridded stats\n",
    "cnn_bench.display_stats(stat_output_filename, xlim=(-100, 50), ylim=(0, 80))"
   ]
  },
  {
   "cell_type": "markdown",
   "id": "d67116ef",
   "metadata": {},
   "source": [
    "## 3.3 Compute statistics by regime (coastal, offshore low variability, offshore high variability)"
   ]
  },
  {
   "cell_type": "code",
   "execution_count": null,
   "id": "0b1db288-f8b8-41fb-a13f-14a4493d7177",
   "metadata": {},
   "outputs": [],
   "source": [
    "# To speed up computation\n",
    "# from dask.distributed import Client\n",
    "# client = Client(n_workers=8, threads_per_worker=8, memory_limit='8GB')"
   ]
  },
  {
   "cell_type": "code",
   "execution_count": null,
   "id": "53077de1",
   "metadata": {},
   "outputs": [],
   "source": [
    "%%time \n",
    "# Compute stats by regime\n",
    "cnn_bench.compute_stats_by_regime(list_of_file, etuvar, list_of_file_inputs)\n",
    "\n",
    "# Write stats by regime\n",
    "cnn_bench.write_stats_by_regime(stat_by_regime_output_filename, filter=filter_name) \n",
    "\n",
    "# Plot stats by regime\n",
    "cnn_bench.plot_stats_by_regime(stat_by_regime_output_filename)"
   ]
  },
  {
   "cell_type": "code",
   "execution_count": null,
   "id": "6493d437-2b2f-4fa2-872f-9cf5d72dfa73",
   "metadata": {},
   "outputs": [],
   "source": [
    "#client.close()"
   ]
  },
  {
   "cell_type": "markdown",
   "id": "a93dc90c",
   "metadata": {},
   "source": [
    "## 3.4 Compute Spectral scores"
   ]
  },
  {
   "cell_type": "code",
   "execution_count": null,
   "id": "e1d09881",
   "metadata": {},
   "outputs": [],
   "source": [
    "%%time\n",
    "# Compute PSD scores\n",
    "cnn_bench.compute_along_track_psd(list_of_file, etuvar,list_of_file_inputs, lengh_scale=1000)\n",
    "\n",
    "# Write PSD scores\n",
    "cnn_bench.write_along_track_psd(psd_output_filename, filter=filter_name)\n",
    "\n",
    "# Plot PSD scores\n",
    "cnn_bench.display_psd(psd_output_filename)"
   ]
  },
  {
   "cell_type": "markdown",
   "id": "77a71e1a",
   "metadata": {},
   "source": [
    "<div class=\"alert alert-info\" role=\"alert\">\n",
    "\n",
    "<h2>4. Leaderboard </h2>\n",
    "\n",
    "</div>"
   ]
  },
  {
   "cell_type": "code",
   "execution_count": null,
   "id": "fa278259",
   "metadata": {},
   "outputs": [],
   "source": [
    "cnn_bench.summary('demo_benchmark_CNN.ipynb')"
   ]
  },
  {
   "cell_type": "code",
   "execution_count": null,
   "id": "7f2b1d96-65c4-4ce2-b435-1f3aa9503a68",
   "metadata": {},
   "outputs": [],
   "source": []
  },
  {
   "cell_type": "code",
   "execution_count": null,
   "id": "71c15662-c222-4674-9c2f-97a10da42bf7",
   "metadata": {},
   "outputs": [],
   "source": []
  }
 ],
 "metadata": {
  "kernelspec": {
   "display_name": "env-dc-swot-filtering",
   "language": "python",
   "name": "env-dc-swot-filtering"
  },
  "language_info": {
   "codemirror_mode": {
    "name": "ipython",
    "version": 3
   },
   "file_extension": ".py",
   "mimetype": "text/x-python",
   "name": "python",
   "nbconvert_exporter": "python",
   "pygments_lexer": "ipython3",
   "version": "3.10.4"
  }
 },
 "nbformat": 4,
 "nbformat_minor": 5
}
