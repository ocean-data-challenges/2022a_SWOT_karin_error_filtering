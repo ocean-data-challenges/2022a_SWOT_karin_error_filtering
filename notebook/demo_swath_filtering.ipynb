{
 "cells": [
  {
   "cell_type": "code",
   "execution_count": null,
   "id": "e72a9c38-7b58-4c79-b116-e1de729a2d16",
   "metadata": {},
   "outputs": [],
   "source": [
    "import os\n",
    "import glob\n",
    "import sys\n",
    "import numpy as np\n",
    "sys.path.append('..')\n",
    "from src.swot import *\n",
    "import warnings\n",
    "warnings.filterwarnings(\"ignore\")"
   ]
  },
  {
   "cell_type": "code",
   "execution_count": null,
   "id": "221f0d2b-7293-4059-a06d-ee57f807c802",
   "metadata": {},
   "outputs": [],
   "source": [
    "list_of_file = sorted(glob.glob('/home/ad/ballarm/scratch/demo_beanchmark_swot_filtering/data/gomez/SWOT_L2_LR_Filtered_013_*.nc'))\n",
    "len(list_of_file)"
   ]
  },
  {
   "cell_type": "code",
   "execution_count": null,
   "id": "27415dba-2a7c-429e-b5de-716c37332cf1",
   "metadata": {},
   "outputs": [],
   "source": [
    "output_dir = '/home/ad/ballarm/scratch/demo_beanchmark_swot_filtering/data/median'\n",
    "os.system(f'mkdir - p {output_dir}')"
   ]
  },
  {
   "cell_type": "code",
   "execution_count": null,
   "id": "ceec3674-34a1-4fcc-9c53-1eafd1f6b35f",
   "metadata": {},
   "outputs": [],
   "source": []
  },
  {
   "cell_type": "code",
   "execution_count": null,
   "id": "a4eddd6b-c587-46a2-a2fb-663b6c733777",
   "metadata": {},
   "outputs": [],
   "source": [
    "swt = SwotTrack(list_of_file[0])"
   ]
  },
  {
   "cell_type": "code",
   "execution_count": null,
   "id": "4391444d-170a-447d-bf40-c4a612aaa5e1",
   "metadata": {},
   "outputs": [],
   "source": [
    "swt.apply_median_filter('simulated_noise_ssh_karin', 10, 'ssh_karin_filt')"
   ]
  },
  {
   "cell_type": "code",
   "execution_count": null,
   "id": "fb0d7928-a15f-4457-8775-4a30618ff503",
   "metadata": {},
   "outputs": [],
   "source": [
    "swt.display_track()"
   ]
  },
  {
   "cell_type": "code",
   "execution_count": null,
   "id": "765a9189-4b1c-466e-a959-79a7d592e3f8",
   "metadata": {},
   "outputs": [],
   "source": []
  },
  {
   "cell_type": "code",
   "execution_count": null,
   "id": "42eab1ae-268e-49ad-aff8-ff68386d127e",
   "metadata": {},
   "outputs": [],
   "source": [
    "### TODO Paralelize this loop\n",
    "%%time\n",
    "for filename in list_of_file:\n",
    "    swt = SwotTrack(filename)\n",
    "    swt.apply_median_filter('simulated_noise_ssh_karin', 10, 'ssh_karin_filt')\n",
    "    output_filename = f'{output_dir}/{os.path.basename(filename)}'\n",
    "    swt.to_netcdf('all', output_filename)"
   ]
  },
  {
   "cell_type": "code",
   "execution_count": null,
   "id": "0598cbb9-850d-47ef-af0d-9d67e88aa811",
   "metadata": {},
   "outputs": [],
   "source": []
  }
 ],
 "metadata": {
  "kernelspec": {
   "display_name": "Pangeo Stable",
   "language": "python",
   "name": "pangeo_stable"
  },
  "language_info": {
   "codemirror_mode": {
    "name": "ipython",
    "version": 3
   },
   "file_extension": ".py",
   "mimetype": "text/x-python",
   "name": "python",
   "nbconvert_exporter": "python",
   "pygments_lexer": "ipython3",
   "version": "3.9.10"
  }
 },
 "nbformat": 4,
 "nbformat_minor": 5
}
