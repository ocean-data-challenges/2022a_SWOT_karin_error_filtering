{
 "cells": [
  {
   "cell_type": "markdown",
   "id": "4ad80306-9909-4867-9391-52b37b7665cd",
   "metadata": {
    "tags": []
   },
   "source": [
    "![header](../figures/logos_partenaires._cmems_se.jpg)"
   ]
  },
  {
   "cell_type": "markdown",
   "id": "527f70de-fa9f-4c94-ab57-1e9629a27c95",
   "metadata": {},
   "source": [
    "# Intercomparison Benchmark SWOT Swath Filtering\n",
    "\n",
    "<div style=\"text-align: right\"><i> 2022-09-20 INTERCOMPARISON_DEMO </i></div>\n",
    "\n",
    "***\n",
    "**Authors:**  CLS & Datlas <br>\n",
    "**Copyright:** 2022 CLS & Datlas <br>\n",
    "**License:** MIT\n",
    "\n",
    "<div class=\"alert alert-block alert-success\">\n",
    "<h1><center>Intercomparison of various filter</center></h1></div>"
   ]
  },
  {
   "cell_type": "markdown",
   "id": "54233043-7781-4353-bf34-61306ae20400",
   "metadata": {},
   "source": [
    "***\n",
    "**General Note 1**: Execute each cell through the <button class=\"btn btn-default btn-xs\"><i class=\"icon-play fa fa-play\"></i></button> button from the top MENU (or keyboard shortcut `Shift` + `Enter`).<br>\n",
    "<br>\n",
    "**General Note 2**: If, for any reason, the kernel is not working anymore, in the top MENU, click on the <button class=\"btn btn-default btn-xs\"><i class=\"fa fa-repeat icon-repeat\"></i></button> button. Then, in the top MENU, click on \"Cell\" and select \"Run All Above Selected Cell\".<br>\n",
    "***\n",
    "\n",
    "\n",
    "<div class=\"alert alert-danger\" role=\"alert\">\n",
    "\n",
    "<h3>Learning outcomes</h3>\n",
    "\n",
    "At the end of this notebook you will know:\n",
    "<ul>\n",
    "  <li>How you can intercompare the statistical and spectral scores computed for various swath filtering methods</li>\n",
    "</ul>\n",
    "    \n",
    "</div>\n"
   ]
  },
  {
   "cell_type": "code",
   "execution_count": null,
   "id": "fc0bc546-1511-40fb-8e33-8f26dc5ef79f",
   "metadata": {},
   "outputs": [],
   "source": []
  },
  {
   "cell_type": "code",
   "execution_count": null,
   "id": "56f3e3f1",
   "metadata": {},
   "outputs": [],
   "source": [
    "import warnings\n",
    "import sys\n",
    "warnings.filterwarnings(\"ignore\")\n",
    "sys.path.append('..')\n",
    "from src.plot import *"
   ]
  },
  {
   "cell_type": "markdown",
   "id": "5f5ab41e-f2e8-4ac6-bc5b-d9fbce3b9ec8",
   "metadata": {},
   "source": [
    "<div class=\"alert alert-info\" role=\"alert\">\n",
    "\n",
    "<h2>1. Result folder</h2>\n",
    "\n",
    "</div>"
   ]
  },
  {
   "cell_type": "code",
   "execution_count": null,
   "id": "9f50e9e4",
   "metadata": {},
   "outputs": [],
   "source": [
    "output_dir = '../results'"
   ]
  },
  {
   "cell_type": "markdown",
   "id": "4cb741bc",
   "metadata": {},
   "source": [
    "<div class=\"alert alert-info\" role=\"alert\">\n",
    "\n",
    "<h2>2. Compare grid boxes statistics</h2>\n",
    "\n",
    "</div>"
   ]
  },
  {
   "cell_type": "markdown",
   "id": "56e6227b-abd9-4deb-bd48-8fddae91efa7",
   "metadata": {},
   "source": [
    "### CNN vs GOMEZ filters"
   ]
  },
  {
   "cell_type": "markdown",
   "id": "022bd683-ab46-4a12-93dd-c7c5687e52c8",
   "metadata": {
    "tags": []
   },
   "source": [
    "The RMSE scores are here intercompared between the CNN and GOMEZ filter. A blue (red) pixel means smaller (larger) RMSE with the CNN filter than with the GOMEZ filter.\n",
    "The CNN performs better than GOMEZ filter in coastal and low varibility region. In regions of high variability (e.g., GulfStrean current and Gulfstream extention) the CNN and GOMEZ filter perform similarly."
   ]
  },
  {
   "cell_type": "code",
   "execution_count": null,
   "id": "a5bd3337",
   "metadata": {},
   "outputs": [],
   "source": [
    "compare_stat(f'{output_dir}/stat_GOMEZ.nc', f'{output_dir}/stat_CNN.nc', xlim=(-100, 50), ylim=(0, 80))"
   ]
  },
  {
   "cell_type": "code",
   "execution_count": null,
   "id": "5d43429f-ca65-47e1-b44e-d090a97a8336",
   "metadata": {},
   "outputs": [],
   "source": []
  },
  {
   "cell_type": "markdown",
   "id": "642f6001-a700-4b80-915e-6fdc0ff84aa6",
   "metadata": {},
   "source": [
    "### CNN vs MEDIAN filter"
   ]
  },
  {
   "cell_type": "markdown",
   "id": "08be1273-b5b3-4376-af41-0a12c7cb11d7",
   "metadata": {},
   "source": [
    "The RMSE scores are here intercompared between the CNN and GOMEZ filter. A blue (red) pixel means smaller (larger) RMSE with the CNN filter than with the GOMEZ filter.\n",
    "Overall, the CNN filter has smaller RMSE than the MEDIAN filter applyied in this study. "
   ]
  },
  {
   "cell_type": "code",
   "execution_count": null,
   "id": "c85e5452",
   "metadata": {},
   "outputs": [],
   "source": [
    "compare_stat(f'{output_dir}/stat_MEDIAN.nc', f'{output_dir}/stat_CNN.nc', xlim=(-100, 50), ylim=(0, 80))"
   ]
  },
  {
   "cell_type": "markdown",
   "id": "d6168dfe-3fa9-48c4-9072-265f7173a89c",
   "metadata": {},
   "source": [
    "<div class=\"alert alert-info\" role=\"alert\">\n",
    "\n",
    "<h2>3. Compare stat by regime</h2>\n",
    "\n",
    "</div>"
   ]
  },
  {
   "cell_type": "markdown",
   "id": "a85d57a3-7f0b-40bb-ab4d-66542173a2a8",
   "metadata": {},
   "source": [
    "Here, we present the across-track noise level, before and after noise filtering for the various filter and  various ocean regime of interest. Again, we find that the GOMEZ and CNN filter seems to perform similarly in offshare regions. In coastal regions, the CNN seems to outperform the others methods."
   ]
  },
  {
   "cell_type": "code",
   "execution_count": null,
   "id": "0fe09314",
   "metadata": {},
   "outputs": [],
   "source": [
    "compare_stats_by_regime([f'{output_dir}/stat_by_regime_CNN.nc', f'{output_dir}/stat_by_regime_GOMEZ.nc', f'{output_dir}/stat_by_regime_MEDIAN.nc'], ['CNN', 'GOMEZ', 'MEDIAN'])"
   ]
  },
  {
   "cell_type": "markdown",
   "id": "8c748eaf",
   "metadata": {},
   "source": [
    "<div class=\"alert alert-info\" role=\"alert\">\n",
    "\n",
    "<h2>4. Compare Power Spectral analysis</h2>\n",
    "\n",
    "</div>"
   ]
  },
  {
   "cell_type": "markdown",
   "id": "0e1255df-81a7-4ffe-910e-05e3e2600840",
   "metadata": {},
   "source": [
    "Spectral analysis give acess to the resolution limit of each filter (e.g., the wavelength where SNR=1). On average over the North Atlantic bassin, the CNN filter has the smallest observable length scale for the SSH, the geostrophic velocity and vorticity field. "
   ]
  },
  {
   "cell_type": "code",
   "execution_count": null,
   "id": "bbc7c172",
   "metadata": {},
   "outputs": [],
   "source": [
    "compare_psd([f'{output_dir}/psd_CNN.nc', f'{output_dir}/psd_GOMEZ.nc', f'{output_dir}/psd_MEDIAN.nc'], ['CNN', 'GOMEZ', 'MEDIAN'])"
   ]
  },
  {
   "cell_type": "code",
   "execution_count": null,
   "id": "05ecb318",
   "metadata": {},
   "outputs": [],
   "source": []
  },
  {
   "cell_type": "code",
   "execution_count": null,
   "id": "6231c5df-8d7b-4d47-9739-8f4a718231b9",
   "metadata": {},
   "outputs": [],
   "source": []
  },
  {
   "cell_type": "code",
   "execution_count": null,
   "id": "463290bf",
   "metadata": {},
   "outputs": [],
   "source": []
  }
 ],
 "metadata": {
  "kernelspec": {
   "display_name": "env-dc-swot-filtering",
   "language": "python",
   "name": "env-dc-swot-filtering"
  },
  "language_info": {
   "codemirror_mode": {
    "name": "ipython",
    "version": 3
   },
   "file_extension": ".py",
   "mimetype": "text/x-python",
   "name": "python",
   "nbconvert_exporter": "python",
   "pygments_lexer": "ipython3",
   "version": "3.10.4"
  }
 },
 "nbformat": 4,
 "nbformat_minor": 5
}
